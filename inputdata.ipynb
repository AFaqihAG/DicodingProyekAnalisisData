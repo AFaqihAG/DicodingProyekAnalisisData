{
 "cells": [
  {
   "cell_type": "code",
   "execution_count": 1,
   "metadata": {},
   "outputs": [],
   "source": [
    "import pandas as pd\n",
    "import numpy as np\n",
    "import matplotlib.pyplot as plt\n",
    "import seaborn as sns"
   ]
  },
  {
   "cell_type": "code",
   "execution_count": 2,
   "metadata": {},
   "outputs": [],
   "source": [
    "df_hour = pd.read_csv(\"hour.csv\", delimiter=\",\")\n",
    "df_day = pd.read_csv(\"day.csv\", delimiter=\",\")"
   ]
  },
  {
   "cell_type": "code",
   "execution_count": 3,
   "metadata": {},
   "outputs": [],
   "source": [
    "# Kolom Casual\n",
    "Q1 = (df_hour['casual']).quantile(0.25)\n",
    "Q3 = (df_hour['casual']).quantile(0.75)\n",
    "IQR = Q3 - Q1\n",
    "\n",
    "# Menentukan batas ambang nilai outlier\n",
    "maximum = Q3 + (1.5*IQR)\n",
    "minimum = Q1 - (1.5*IQR)\n",
    "maximum = int(maximum)\n",
    "minimum = int(minimum)\n",
    "\n",
    "# Melihat nilai outlier pada kolom casual\n",
    "minimum_outlier = df_hour['casual'] < minimum\n",
    "maximum_outlier = df_hour['casual'] > maximum\n",
    " \n",
    "# Mengubah nilai outlier dengan nilai batasan\n",
    "df_hour.loc[maximum_outlier, 'casual'] = maximum\n",
    "df_hour.loc[minimum_outlier, 'casual'] = minimum\n",
    "\n",
    "# Kolom Registered\n",
    "Q1 = (df_hour['registered']).quantile(0.25)\n",
    "Q3 = (df_hour['registered']).quantile(0.75)\n",
    "IQR = Q3 - Q1\n",
    " \n",
    "# Menentukan batas ambang nilai outlier\n",
    "maximum = Q3 + (1.5*IQR)\n",
    "minimum = Q1 - (1.5*IQR)\n",
    "maximum = int(maximum)\n",
    "minimum = int(minimum)\n",
    "\n",
    "# Melihat nilai outlier pada kolom registered \n",
    "minimum_outlier = df_hour['registered'] < minimum\n",
    "maximum_outlier = df_hour['registered'] > maximum\n",
    "\n",
    "# Mengubah nilai outlier dengan nilai batasan\n",
    "df_hour.loc[maximum_outlier, 'registered'] = maximum\n",
    "df_hour.loc[minimum_outlier, 'registered'] = minimum\n",
    "\n",
    "# Kolom Casual\n",
    "Q1 = (df_day['casual']).quantile(0.25)\n",
    "Q3 = (df_day['casual']).quantile(0.75)\n",
    "IQR = Q3 - Q1\n",
    "\n",
    "# Menentukan batas ambang nilai outlier\n",
    "maximum = Q3 + (1.5*IQR)\n",
    "minimum = Q1 - (1.5*IQR)\n",
    "maximum = int(maximum)\n",
    "minimum = int(minimum)\n",
    "\n",
    "# Melihat nilai outlier pada kolom casual\n",
    "minimum_outlier = df_day['casual'] < minimum\n",
    "maximum_outlier = df_day['casual'] > maximum\n",
    " \n",
    "# Mengubah nilai outlier dengan nilai batasan\n",
    "df_day.loc[maximum_outlier, 'casual'] = maximum\n",
    "df_day.loc[minimum_outlier, 'casual'] = minimum\n",
    "\n",
    "# Kolom Casual\n",
    "Q1 = (df_day['registered']).quantile(0.25)\n",
    "Q3 = (df_day['registered']).quantile(0.75)\n",
    "IQR = Q3 - Q1\n",
    "\n",
    "# Menentukan batas ambang nilai outlier\n",
    "maximum = Q3 + (1.5*IQR)\n",
    "minimum = Q1 - (1.5*IQR)\n",
    "maximum = int(maximum)\n",
    "minimum = int(minimum)\n",
    "\n",
    "# Melihat nilai outlier pada kolom casual\n",
    "minimum_outlier = df_day['registered'] < minimum\n",
    "maximum_outlier = df_day['registered'] > maximum\n",
    " \n",
    "# Mengubah nilai outlier dengan nilai batasan\n",
    "df_day.loc[maximum_outlier, 'registered'] = maximum\n",
    "df_day.loc[minimum_outlier, 'registered'] = minimum"
   ]
  },
  {
   "cell_type": "code",
   "execution_count": 4,
   "metadata": {},
   "outputs": [],
   "source": [
    "file_path = \"hourly_average_users.csv\"\n",
    "\n",
    "hourly_average_users = df_hour.groupby('hr')[['casual', 'registered', 'cnt']].mean().reset_index()\n",
    "\n",
    "hourly_average_users.rename(columns={'cnt': 'total'}, inplace=True)\n",
    "\n",
    "hourly_average_users[['casual', 'registered', 'total']] = hourly_average_users[['casual', 'registered', 'total']].round(2)\n",
    "\n",
    "hourly_average_users.to_csv(file_path, index=False)"
   ]
  },
  {
   "cell_type": "code",
   "execution_count": 5,
   "metadata": {},
   "outputs": [],
   "source": [
    "file_path = \"monthly_average_users.csv\"\n",
    "\n",
    "monthly_average_users = df_hour.groupby('mnth')[['casual', 'registered', 'cnt']].mean().reset_index()\n",
    "\n",
    "monthly_average_users.rename(columns={'cnt': 'total'}, inplace=True)\n",
    "\n",
    "monthly_average_users[['casual', 'registered', 'total']] = monthly_average_users[['casual', 'registered', 'total']].round(3)\n",
    "\n",
    "monthly_average_users.to_csv(file_path, index=False)"
   ]
  },
  {
   "cell_type": "code",
   "execution_count": 6,
   "metadata": {},
   "outputs": [],
   "source": [
    "file_path = \"workday_average_users.csv\"\n",
    "\n",
    "workday_average_users = df_day.groupby('workingday')[['casual', 'registered', 'cnt']].mean().reset_index()\n",
    "\n",
    "workday_average_users.rename(columns={'cnt': 'total'}, inplace=True)\n",
    "\n",
    "workday_average_users[['casual', 'registered', 'total']] = workday_average_users[['casual', 'registered', 'total']].round(3)\n",
    "\n",
    "workday_average_users['workingday'] = workday_average_users['workingday'].replace({0: 'Weekend/Holiday', 1: 'Weekday'})\n",
    "\n",
    "workday_average_users.to_csv(file_path, index=False)"
   ]
  }
 ],
 "metadata": {
  "kernelspec": {
   "display_name": "Python 3",
   "language": "python",
   "name": "python3"
  },
  "language_info": {
   "codemirror_mode": {
    "name": "ipython",
    "version": 3
   },
   "file_extension": ".py",
   "mimetype": "text/x-python",
   "name": "python",
   "nbconvert_exporter": "python",
   "pygments_lexer": "ipython3",
   "version": "3.10.12"
  }
 },
 "nbformat": 4,
 "nbformat_minor": 2
}
